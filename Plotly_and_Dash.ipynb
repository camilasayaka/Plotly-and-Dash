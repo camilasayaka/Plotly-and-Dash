{
 "cells": [
  {
   "cell_type": "markdown",
   "id": "f59fe838-caf0-4936-b363-d3322bc87558",
   "metadata": {},
   "source": [
    "### **Imports**"
   ]
  },
  {
   "cell_type": "code",
   "execution_count": 42,
   "id": "3e40ffec-fb72-4d24-8ef4-c45e5e0a94ab",
   "metadata": {},
   "outputs": [],
   "source": [
    "import numpy as np\n",
    "import pandas as pd\n",
    "import dash\n",
    "import dash_core_components as dcc\n",
    "import dash_html_components as html\n",
    "import plotly.graph_objs as go\n",
    "from dash.dependencies import Input, Output"
   ]
  },
  {
   "cell_type": "markdown",
   "id": "cbfe1d55-efd1-49ec-8d82-2f980b7bba28",
   "metadata": {},
   "source": [
    "### **Plotly and Dash**"
   ]
  },
  {
   "cell_type": "markdown",
   "id": "51caf03a-4e79-4445-b93c-5f1dc858bf67",
   "metadata": {},
   "source": [
    "**Exercise 1**"
   ]
  },
  {
   "cell_type": "code",
   "execution_count": 89,
   "id": "c6cdf5c3-66c7-4d6a-87a3-f56dfbce4925",
   "metadata": {},
   "outputs": [
    {
     "data": {
      "text/html": [
       "\n",
       "        <iframe\n",
       "            width=\"100%\"\n",
       "            height=\"650\"\n",
       "            src=\"http://127.0.0.1:8050/\"\n",
       "            frameborder=\"0\"\n",
       "            allowfullscreen\n",
       "            \n",
       "        ></iframe>\n",
       "        "
      ],
      "text/plain": [
       "<IPython.lib.display.IFrame at 0x29b621c1e50>"
      ]
     },
     "metadata": {},
     "output_type": "display_data"
    }
   ],
   "source": [
    "app = dash.Dash()\n",
    "\n",
    "app.layout = html.Div(children = [html.H1(\"Hello Dash!\"), \n",
    "                                  html.Div(\"Dash: Web Dashboards with Python\"), \n",
    "                                  dcc.Graph(id = \"example\", \n",
    "                                           figure = {\"data\": [\n",
    "                                               { \"x\": [1,2,3], \"y\":[3,7,2], \"type\": \"bar\", \"name\": \"SF\"},\n",
    "                                               { \"x\": [1,2,3], \"y\":[6,9,8], \"type\": \"bar\", \"name\": \"NYC\"}\n",
    "                                           ],\n",
    "                                                     \"layout\": {\"title\":\"Bar Plots\"}\n",
    "                                                    })])\n",
    "\n",
    "if __name__==\"__main__\":\n",
    "    app.run_server()"
   ]
  },
  {
   "cell_type": "markdown",
   "id": "8e522122-e8ed-464f-aaf2-50c0d9ef8661",
   "metadata": {},
   "source": [
    "**Exercise 2**"
   ]
  },
  {
   "cell_type": "code",
   "execution_count": 90,
   "id": "318c13fe-d6b4-4d7b-a2f5-e07930d7e7cd",
   "metadata": {},
   "outputs": [
    {
     "data": {
      "text/html": [
       "\n",
       "        <iframe\n",
       "            width=\"100%\"\n",
       "            height=\"650\"\n",
       "            src=\"http://127.0.0.1:8050/\"\n",
       "            frameborder=\"0\"\n",
       "            allowfullscreen\n",
       "            \n",
       "        ></iframe>\n",
       "        "
      ],
      "text/plain": [
       "<IPython.lib.display.IFrame at 0x29b621a38d0>"
      ]
     },
     "metadata": {},
     "output_type": "display_data"
    }
   ],
   "source": [
    "app = dash.Dash()\n",
    "\n",
    "colors = {\"background\": \"#111111\", \"text\": \"#FFFFFF\"}\n",
    "\n",
    "app.layout = html.Div(children = [html.H1(\"Dashboard\", style={\"textAlign\": \"center\", \"color\": colors[\"text\"]}), \n",
    "                                  dcc.Graph(id = \"example\", \n",
    "                                           figure = {\"data\": [\n",
    "                                               { \"x\": [1,2,3], \"y\":[3,7,2], \"type\": \"bar\", \"name\": \"SF\"},\n",
    "                                               { \"x\": [1,2,3], \"y\":[6,9,8], \"type\": \"bar\", \"name\": \"NYC\"}\n",
    "                                           ],\n",
    "                                                     \"layout\": {\"plot_bgcolor\": colors[\"background\"],\n",
    "                                                                \"paper_bgcolor\": colors[\"background\"],\n",
    "                                                                \"font\": {\"color\": colors[\"text\"]},\n",
    "                                                                \"title\":\"Bar Plots\"\n",
    "                                                               }})\n",
    "                                 ], style = {\"backgrounColor\": colors[\"background\"]}\n",
    "                     )\n",
    "\n",
    "if __name__==\"__main__\":\n",
    "    app.run_server()\n"
   ]
  },
  {
   "cell_type": "markdown",
   "id": "0082a5a8-e4ef-4aaa-8d59-44b5256559a6",
   "metadata": {},
   "source": [
    "**Exercise 3**"
   ]
  },
  {
   "cell_type": "code",
   "execution_count": 91,
   "id": "76136b93-93e3-47f6-a6e1-db9b7fa4bd6e",
   "metadata": {},
   "outputs": [
    {
     "data": {
      "text/html": [
       "\n",
       "        <iframe\n",
       "            width=\"100%\"\n",
       "            height=\"650\"\n",
       "            src=\"http://127.0.0.1:8050/\"\n",
       "            frameborder=\"0\"\n",
       "            allowfullscreen\n",
       "            \n",
       "        ></iframe>\n",
       "        "
      ],
      "text/plain": [
       "<IPython.lib.display.IFrame at 0x29b63e7da10>"
      ]
     },
     "metadata": {},
     "output_type": "display_data"
    }
   ],
   "source": [
    "app = dash.Dash()\n",
    "\n",
    "# creating data\n",
    "np.random.seed(42)\n",
    "random_x = np.random.randint(1,120,100)\n",
    "random_y = np.random.randint(1,120,100)\n",
    "\n",
    "app.layout =  html.Div([dcc.Graph(id = \"scatterplot1\", \n",
    "                                 figure = {\n",
    "                                     \"data\": [go.Scatter(x=random_x, \n",
    "                                                         y=random_y, \n",
    "                                                         mode=\"markers\", \n",
    "                                                         marker={\"size\":12, \"color\":\"rgb(178, 350, 190)\", \"symbol\": \"pentagon\", \"line\":{\"width\":2}})], \n",
    "                                     \"layout\":go.Layout(title=\"My Scatterplot\", xaxis={\"title\": \"some x title\"})}\n",
    "                                 ), \n",
    "                       dcc.Graph(id = \"scatterplot2\", \n",
    "                                 figure = {\n",
    "                                     \"data\": [go.Scatter(x=random_x, \n",
    "                                                         y=random_y, \n",
    "                                                         mode=\"markers\", \n",
    "                                                         marker={\"size\":12, \"color\":\"rgb(250, 150, 540)\", \"symbol\": \"hexagon\", \"line\":{\"width\":2}})], \n",
    "                                     \"layout\":go.Layout(title=\"My Second Scatterplot\", xaxis={\"title\": \"some x title\"})}\n",
    "                                )])\n",
    "\n",
    "if __name__==\"__main__\":\n",
    "    app.run_server()\n"
   ]
  },
  {
   "cell_type": "markdown",
   "id": "7e35f9c6-72f8-4f73-8d9c-4c637d570718",
   "metadata": {},
   "source": [
    "**Exercise 4**"
   ]
  },
  {
   "cell_type": "code",
   "execution_count": 92,
   "id": "7c64fa4e-9b80-452c-aee5-dba4ede0ddbf",
   "metadata": {},
   "outputs": [
    {
     "data": {
      "text/html": [
       "\n",
       "        <iframe\n",
       "            width=\"100%\"\n",
       "            height=\"650\"\n",
       "            src=\"http://127.0.0.1:8050/\"\n",
       "            frameborder=\"0\"\n",
       "            allowfullscreen\n",
       "            \n",
       "        ></iframe>\n",
       "        "
      ],
      "text/plain": [
       "<IPython.lib.display.IFrame at 0x29b622d6050>"
      ]
     },
     "metadata": {},
     "output_type": "display_data"
    }
   ],
   "source": [
    "df = pd.read_csv(\"C:/Users/CamilaHiura/Documents/Cursos/Interactive Python Dashboards with Plotly and Dash/Práticas/Data/OldFaithful.csv\")\n",
    "\n",
    "app = dash.Dash()\n",
    "\n",
    "app.layout = html.Div([dcc.Graph(id = \"old_faithful\", \n",
    "                                 figure = { \"data\": [go.Scatter(x=df[\"X\"], y=df[\"Y\"], mode=\"markers\")] , \n",
    "                                           \"layout\": go.Layout(title=\"Old Faithful Eruptions\", xaxis = {\"title\": \"Duration\"}, yaxis = {\"title\": \"Interval\"} )}\n",
    "                                )])\n",
    "\n",
    "if __name__==\"__main__\":\n",
    "    app.run_server()"
   ]
  },
  {
   "cell_type": "markdown",
   "id": "aedcd12f-03ae-4972-b890-1bdfc060a3d2",
   "metadata": {},
   "source": [
    "**Exercise 5**"
   ]
  },
  {
   "cell_type": "code",
   "execution_count": 93,
   "id": "e1ef1b54-6b19-47fa-98a5-94ec1ca076e2",
   "metadata": {},
   "outputs": [
    {
     "data": {
      "text/html": [
       "\n",
       "        <iframe\n",
       "            width=\"100%\"\n",
       "            height=\"650\"\n",
       "            src=\"http://127.0.0.1:8050/\"\n",
       "            frameborder=\"0\"\n",
       "            allowfullscreen\n",
       "            \n",
       "        ></iframe>\n",
       "        "
      ],
      "text/plain": [
       "<IPython.lib.display.IFrame at 0x29b612b3810>"
      ]
     },
     "metadata": {},
     "output_type": "display_data"
    }
   ],
   "source": [
    "app = dash.Dash()\n",
    "\n",
    "app.layout = html.Div([html.Label(\"Dropdown\"), \n",
    "                       dcc.Dropdown(options=[{\"label\": \"New York City\", \n",
    "                                              \"value\": \"NYC\"}, \n",
    "                                             {\"label\": \"San Francisco\", \n",
    "                                              \"value\": \"SF\"}], value=\"SF\"), \n",
    "                       html.Label(\"Slider\"), \n",
    "                       dcc.Slider(min=-10, max=10, step=0.5, value=0, marks={i: i for i in range(-10, 10)}), \n",
    "                       html.P(html.Label(\"Some Radio Items\")), \n",
    "                       dcc.RadioItems(options=[{\"label\": \"New York City\", \n",
    "                                              \"value\": \"NYC\"}, \n",
    "                                             {\"label\": \"San Francisco\", \n",
    "                                              \"value\": \"SF\"}], value=\"SF\")\n",
    "                      ])\n",
    "\n",
    "if __name__==\"__main__\":\n",
    "    app.run_server()"
   ]
  },
  {
   "cell_type": "markdown",
   "id": "ca660f80-5be3-4eee-a2eb-24bc5ba90340",
   "metadata": {},
   "source": [
    "**Exercise 6**"
   ]
  },
  {
   "cell_type": "code",
   "execution_count": 94,
   "id": "bd81b0d8-3299-497b-a678-33fd460d4811",
   "metadata": {},
   "outputs": [
    {
     "data": {
      "text/html": [
       "\n",
       "        <iframe\n",
       "            width=\"100%\"\n",
       "            height=\"650\"\n",
       "            src=\"http://127.0.0.1:8050/\"\n",
       "            frameborder=\"0\"\n",
       "            allowfullscreen\n",
       "            \n",
       "        ></iframe>\n",
       "        "
      ],
      "text/plain": [
       "<IPython.lib.display.IFrame at 0x29b63eea1d0>"
      ]
     },
     "metadata": {},
     "output_type": "display_data"
    }
   ],
   "source": [
    "app = dash.Dash()\n",
    "\n",
    "markdown_text = \"banana **banana** *banana*\"\n",
    "app.layout = html.Div([dcc.Markdown(children=markdown_text)])\n",
    "\n",
    "if __name__==\"__main__\":\n",
    "    app.run_server()"
   ]
  },
  {
   "cell_type": "markdown",
   "id": "2f64d836-a4d3-437a-a82e-9beff8a59083",
   "metadata": {},
   "source": [
    "**Exercise 7 - Callbacks** "
   ]
  },
  {
   "cell_type": "code",
   "execution_count": 95,
   "id": "dc131df1-ee41-43b4-82bd-0705022f8c00",
   "metadata": {},
   "outputs": [
    {
     "data": {
      "text/html": [
       "\n",
       "        <iframe\n",
       "            width=\"100%\"\n",
       "            height=\"650\"\n",
       "            src=\"http://127.0.0.1:8050/\"\n",
       "            frameborder=\"0\"\n",
       "            allowfullscreen\n",
       "            \n",
       "        ></iframe>\n",
       "        "
      ],
      "text/plain": [
       "<IPython.lib.display.IFrame at 0x29b5da6f550>"
      ]
     },
     "metadata": {},
     "output_type": "display_data"
    }
   ],
   "source": [
    "app = dash.Dash()\n",
    "\n",
    "app.layout = html.Div([ dcc.Input(id=\"my-id\", \n",
    "                                  value=\"hello\", \n",
    "                                  type=\"text\"),\n",
    "                       html.Div(id=\"my-div\")\n",
    "                      ])\n",
    "\n",
    "@app.callback(Output(component_id = \"my-div\", component_property = \"children\"),\n",
    "              [Input(component_id = \"my-id\", component_property = \"value\")]\n",
    "             )\n",
    "\n",
    "\n",
    "def update_output_div(input_value):\n",
    "    return \"your value: {}\".format(input_value)\n",
    "\n",
    "if __name__ == \"__main__\":\n",
    "    app.run_server()"
   ]
  },
  {
   "cell_type": "markdown",
   "id": "a5fa458b-b01c-4729-8297-17a0afe19140",
   "metadata": {},
   "source": [
    "**Exercise 7 - Callbacks for Graphs** "
   ]
  },
  {
   "cell_type": "code",
   "execution_count": 96,
   "id": "ec5f128e-c17a-432d-9ce1-5a4fe1124519",
   "metadata": {},
   "outputs": [
    {
     "data": {
      "text/html": [
       "\n",
       "        <iframe\n",
       "            width=\"100%\"\n",
       "            height=\"650\"\n",
       "            src=\"http://127.0.0.1:8050/\"\n",
       "            frameborder=\"0\"\n",
       "            allowfullscreen\n",
       "            \n",
       "        ></iframe>\n",
       "        "
      ],
      "text/plain": [
       "<IPython.lib.display.IFrame at 0x29b63eeb8d0>"
      ]
     },
     "metadata": {},
     "output_type": "display_data"
    }
   ],
   "source": [
    "df = pd.read_csv(\"C:/Users/CamilaHiura/Documents/Cursos/Interactive Python Dashboards with Plotly and Dash/Práticas/Data/gapminderDataFiveYear.csv\")\n",
    "\n",
    "app = dash.Dash()\n",
    "\n",
    "years = []\n",
    "for y in df[\"year\"].unique():\n",
    "    years.append({\"label\":str(y),\"value\":y})\n",
    "\n",
    "\n",
    "app.layout = html.Div([dcc.Graph(id=\"graph\"),\n",
    "                       dcc.Dropdown(id=\"year-picker\",options=years,value=df[\"year\"].min()), \n",
    "                      ])\n",
    "\n",
    "\n",
    "@app.callback(Output(\"graph\", \"figure\"),\n",
    "              [Input(\"year-picker\", \"value\")])\n",
    "\n",
    "\n",
    "def update_figure(selected_year):\n",
    "    filtered_df = df[df[\"year\"] == selected_year]\n",
    "    traces = []\n",
    "    for continent in filtered_df[\"continent\"].unique():\n",
    "        df_by_continent = filtered_df[filtered_df[\"continent\"] == continent]\n",
    "        traces.append(go.Scatter(x = df_by_continent[\"gdpPercap\"],\n",
    "                                 y = df_by_continent[\"lifeExp\"],\n",
    "                                 text = df_by_continent[\"country\"],\n",
    "                                 mode = \"markers\",\n",
    "                                 opacity = 0.6,\n",
    "                                 marker = {\"size\": 25, \n",
    "                                          \"line\": {\"width\": 1, \n",
    "                                                   \"color\": \"white\"}},\n",
    "                                 name = continent\n",
    "                                )\n",
    "                     )\n",
    "\n",
    "    return {\"data\": traces, \"layout\": go.Layout(xaxis={\"type\": \"log\", \"title\": \"GDP Per Capita\"},\n",
    "                                                yaxis={\"title\": \"Life Expectancy\"},\n",
    "                                                hovermode='closest'\n",
    "                                               )\n",
    "           }\n",
    "\n",
    "\n",
    "if __name__ == \"__main__\":\n",
    "    app.run_server()"
   ]
  },
  {
   "cell_type": "code",
   "execution_count": null,
   "id": "d3128963-270c-45e0-b8d8-225c3ff28042",
   "metadata": {},
   "outputs": [],
   "source": []
  },
  {
   "cell_type": "code",
   "execution_count": null,
   "id": "d5fa8394-b689-4c7b-8c46-4101bda3a73f",
   "metadata": {},
   "outputs": [],
   "source": []
  },
  {
   "cell_type": "code",
   "execution_count": null,
   "id": "74ecba43-1862-4a38-be35-04b6f2d3e81a",
   "metadata": {},
   "outputs": [],
   "source": []
  },
  {
   "cell_type": "code",
   "execution_count": null,
   "id": "fd74f0b4-edcd-4f6a-a702-abb27df438d6",
   "metadata": {},
   "outputs": [],
   "source": []
  },
  {
   "cell_type": "code",
   "execution_count": null,
   "id": "1ff73baf-6986-4c62-a18e-e6e5387da5e3",
   "metadata": {},
   "outputs": [],
   "source": []
  },
  {
   "cell_type": "code",
   "execution_count": null,
   "id": "d8cbeb97-75a6-48ca-9694-2449ea541292",
   "metadata": {},
   "outputs": [],
   "source": []
  },
  {
   "cell_type": "code",
   "execution_count": null,
   "id": "d14b43e6-8e6c-4bde-a662-fe905e0682bb",
   "metadata": {},
   "outputs": [],
   "source": []
  },
  {
   "cell_type": "code",
   "execution_count": null,
   "id": "3a112450-b28a-4c13-b036-d18b824d4853",
   "metadata": {},
   "outputs": [],
   "source": []
  }
 ],
 "metadata": {
  "kernelspec": {
   "display_name": "Python 3 (ipykernel)",
   "language": "python",
   "name": "python3"
  },
  "language_info": {
   "codemirror_mode": {
    "name": "ipython",
    "version": 3
   },
   "file_extension": ".py",
   "mimetype": "text/x-python",
   "name": "python",
   "nbconvert_exporter": "python",
   "pygments_lexer": "ipython3",
   "version": "3.11.7"
  }
 },
 "nbformat": 4,
 "nbformat_minor": 5
}
