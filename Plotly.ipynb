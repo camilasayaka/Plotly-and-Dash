{
 "cells": [
  {
   "cell_type": "markdown",
   "id": "f68c4c59-77e5-4044-9309-3ba5e0ff6e66",
   "metadata": {},
   "source": [
    "# **Imports**"
   ]
  },
  {
   "cell_type": "code",
   "execution_count": 122,
   "id": "57326324-b5dd-43bf-914f-9ae5977bf774",
   "metadata": {},
   "outputs": [],
   "source": [
    "import numpy as np\n",
    "import pandas as pd\n",
    "import random\n",
    "import plotly.offline as pyo\n",
    "import plotly.graph_objs as go\n",
    "import plotly.figure_factory as ff"
   ]
  },
  {
   "cell_type": "markdown",
   "id": "4083c1a4-6e0e-42d7-bbce-5036d8b408c8",
   "metadata": {},
   "source": [
    "# **Plots**"
   ]
  },
  {
   "cell_type": "markdown",
   "id": "8360a367-62b3-4716-9a08-810bf6199c9c",
   "metadata": {},
   "source": [
    "### **Scatterplot**"
   ]
  },
  {
   "cell_type": "markdown",
   "id": "99170919-44e0-4e2d-a3af-39baf486cfc3",
   "metadata": {},
   "source": [
    "**Exercise 1**"
   ]
  },
  {
   "cell_type": "code",
   "execution_count": 158,
   "id": "50a7aebe-589f-4dfd-808d-9820a21006ae",
   "metadata": {},
   "outputs": [],
   "source": [
    "np.random.seed(42)\n",
    "random_x = np.random.randint(1,101,100)\n",
    "random_y = np.random.randint(1,101,100)\n",
    "\n",
    "data = [go.Scatter(x=random_x, \n",
    "                   y=random_y, \n",
    "                   mode=\"markers\", \n",
    "                   marker = dict(\n",
    "                       size = 12,\n",
    "                       color = \"rgb(43,563,43)\",\n",
    "                       symbol = \"hexagon\",\n",
    "                       line = {\"width\":2}\n",
    "                   ))]\n",
    "layout = go.Layout(title = \"Testando o primeiro plot\",\n",
    "                   xaxis = {\"title\": \"Testando x axis\"},\n",
    "                   yaxis = dict(title = \"Testando y axis\"),\n",
    "                   hovermode = \"closest\")\n",
    "\n",
    "fig = go.Figure(data=data,layout=layout)\n",
    "#pyo.plot(fig, filename = \"Primeiro_plot.html\")\n",
    "fig.show(renderer='browser')"
   ]
  },
  {
   "cell_type": "markdown",
   "id": "74c4785a-d411-4283-8bea-ce68ab09864c",
   "metadata": {},
   "source": [
    "### **Line Charts**"
   ]
  },
  {
   "cell_type": "markdown",
   "id": "8fe14083-8489-4f7b-8594-0dec2e370835",
   "metadata": {},
   "source": [
    "**Exercise 2**"
   ]
  },
  {
   "cell_type": "code",
   "execution_count": 24,
   "id": "443623b8-8fbf-4077-a43a-1c57028dce0b",
   "metadata": {},
   "outputs": [],
   "source": [
    "np.random.seed(56)\n",
    "\n",
    "x_values = np.linspace(0,1,100)\n",
    "y_values = np.random.randn(100)\n",
    "\n",
    "trace0 = go.Scatter(x=x_values, y=y_values+5, mode=\"markers\", name=\"markers\")\n",
    "trace1 = go.Scatter(x=x_values, y=y_values, mode=\"lines\", name=\"mylines\")\n",
    "trace2 = go.Scatter(x=x_values, y=y_values-5, mode=\"lines+markers\", name=\"test\")\n",
    "data = [trace0, trace1, trace2]\n",
    "layout = go.Layout(title=\"Line Charts\")\n",
    "\n",
    "fig = go.Figure(data=data, layout=layout)\n",
    "#pyo.plot(fig)\n",
    "fig.show(renderer='browser')"
   ]
  },
  {
   "cell_type": "markdown",
   "id": "76cde2a0-b14f-44f8-a683-16a37085c35e",
   "metadata": {},
   "source": [
    "**Exercise 3**"
   ]
  },
  {
   "cell_type": "code",
   "execution_count": 39,
   "id": "00fc8ee0-2b23-4d75-b4a3-3f2ef985f781",
   "metadata": {},
   "outputs": [],
   "source": [
    "df = pd.read_csv(\"C:/Users/CamilaHiura/Documents/Cursos/Interactive Python Dashboards with Plotly and Dash/Práticas/Data/nst-est2017-alldata.csv\")\n",
    "df1 = df[df[\"DIVISION\"]==\"1\"]\n",
    "df1.set_index(\"NAME\", inplace = True)\n",
    "population_columns = [col for col in df1.columns if col.startswith(\"POP\")]\n",
    "df1 = df1[population_columns]\n",
    "\n",
    "data = [go.Scatter(x = df1.columns, y = df1.loc[name], mode = \"lines\", name=name) for name in df1.index]\n",
    "\n",
    "fig = go.Figure(data=data)\n",
    "#pyo.plot(fig)\n",
    "fig.show(renderer='browser')"
   ]
  },
  {
   "cell_type": "markdown",
   "id": "811ca5d7-44f9-4e90-9899-79d63239da2b",
   "metadata": {},
   "source": [
    "**Exercise 4**"
   ]
  },
  {
   "cell_type": "code",
   "execution_count": 143,
   "id": "486533ee-92fe-438a-b6c2-8a6c6d5c9c0b",
   "metadata": {},
   "outputs": [],
   "source": [
    "df = pd.read_csv(\"C:/Users/CamilaHiura/Documents/Cursos/Interactive Python Dashboards with Plotly and Dash/Práticas/Data/2010YumaAZ.csv\")\n",
    "days = list(df[\"DAY\"].unique())\n",
    "\n",
    "data = [go.Scatter(x = df[\"LST_TIME\"], y = df[df[\"DAY\"]==i][\"T_HR_AVG\"], mode = \"lines\", name = i) for i in days]\n",
    "layout = go.Layout(title = \"Daily temp avgs\")\n",
    "                    \n",
    "fig = go.Figure(data=data, layout=layout)\n",
    "#pyo.plot(fig)\n",
    "fig.show(renderer='browser')"
   ]
  },
  {
   "cell_type": "markdown",
   "id": "50e79359-b768-4b8f-ac6e-479762d6b54a",
   "metadata": {},
   "source": [
    "### **Bar Chart**"
   ]
  },
  {
   "cell_type": "markdown",
   "id": "2413e2a6-1299-4f7b-b24b-8ec383389bdc",
   "metadata": {},
   "source": [
    "**Exercise 5**"
   ]
  },
  {
   "cell_type": "code",
   "execution_count": 43,
   "id": "a5e8b06c-e997-4deb-a408-ff354a66b07b",
   "metadata": {},
   "outputs": [],
   "source": [
    "df = pd.read_csv(\"C:/Users/CamilaHiura/Documents/Cursos/Interactive Python Dashboards with Plotly and Dash/Práticas/Data/2018WinterOlympics.csv\")\n",
    "\n",
    "data = [go.Bar(x=df[\"NOC\"], y=df[\"Total\"])]\n",
    "layout = go.Layout(title=\"Medals\")\n",
    "\n",
    "fig = go.Figure(data=data, layout=layout)\n",
    "fig.show(renderer='browser')"
   ]
  },
  {
   "cell_type": "markdown",
   "id": "8f3468d8-ed2c-4d01-9156-f5680075881a",
   "metadata": {},
   "source": [
    "**Exercise 6**"
   ]
  },
  {
   "cell_type": "code",
   "execution_count": 50,
   "id": "027b51bf-74ca-4a74-ab26-f4543a42a523",
   "metadata": {},
   "outputs": [],
   "source": [
    "trace1 = go.Bar(x=df[\"NOC\"], y=df[\"Gold\"], name = \"Gold\", marker = {\"color\": \"#FFD700\"} )\n",
    "trace2 = go.Bar(x=df[\"NOC\"], y=df[\"Silver\"], name = \"Silver\", marker = {\"color\": \"#9EA0A1\"})\n",
    "trace3 = go.Bar(x=df[\"NOC\"], y=df[\"Bronze\"], name = \"Bronze\", marker = {\"color\": \"#CD7F32\"})\n",
    "\n",
    "data = [trace1, trace2, trace3]\n",
    "layout = go.Layout(title=\"Medals\")\n",
    "\n",
    "fig = go.Figure(data=data, layout=layout)\n",
    "fig.show(renderer='browser')"
   ]
  },
  {
   "cell_type": "markdown",
   "id": "c981cedd-92b8-4bee-843d-22e11b226a60",
   "metadata": {},
   "source": [
    "**Exercise 7**"
   ]
  },
  {
   "cell_type": "code",
   "execution_count": 49,
   "id": "0744c207-63c6-4694-a4f2-0a21d632fa2d",
   "metadata": {},
   "outputs": [],
   "source": [
    "trace1 = go.Bar(x=df[\"NOC\"], y=df[\"Gold\"], name = \"Gold\", marker = {\"color\": \"#FFD700\"} )\n",
    "trace2 = go.Bar(x=df[\"NOC\"], y=df[\"Silver\"], name = \"Silver\", marker = {\"color\": \"#9EA0A1\"})\n",
    "trace3 = go.Bar(x=df[\"NOC\"], y=df[\"Bronze\"], name = \"Bronze\", marker = {\"color\": \"#CD7F32\"})\n",
    "\n",
    "data = [trace1, trace2, trace3]\n",
    "layout = go.Layout(title=\"Medals\", barmode = \"stack\")\n",
    "\n",
    "fig = go.Figure(data=data, layout=layout)\n",
    "fig.show(renderer='browser')"
   ]
  },
  {
   "cell_type": "markdown",
   "id": "cefed5e3-cd87-4bad-8d75-28d666fb3dc2",
   "metadata": {},
   "source": [
    "**Exercise 8**"
   ]
  },
  {
   "cell_type": "code",
   "execution_count": 70,
   "id": "d66f2cbe-f65a-4780-bf07-afb75247a8ab",
   "metadata": {},
   "outputs": [],
   "source": [
    "df = pd.read_csv(\"C:/Users/CamilaHiura/Documents/Cursos/Interactive Python Dashboards with Plotly and Dash/Práticas/Data/mocksurvey.csv\", index_col=0)\n",
    "\n",
    "data = [go.Bar(x = df.index, y = df[column], name = column) for column in df.columns]\n",
    "layout = go.Layout(title=\"Survey Results\", barmode = \"stack\")\n",
    "\n",
    "fig = go.Figure(data=data, layout=layout)\n",
    "fig.show(renderer='browser')"
   ]
  },
  {
   "cell_type": "markdown",
   "id": "f0e287d1-0508-4981-8836-0b8d7d05c030",
   "metadata": {},
   "source": [
    "**Exercise 9**"
   ]
  },
  {
   "cell_type": "code",
   "execution_count": 71,
   "id": "7b4d2650-a8e3-4c2c-8734-0284420175c1",
   "metadata": {},
   "outputs": [],
   "source": [
    "data = [go.Bar(x = df[column], y = df.index, orientation = \"h\", name = column) for column in df.columns]\n",
    "layout = go.Layout(title=\"Survey Results\", barmode = \"stack\")\n",
    "\n",
    "fig = go.Figure(data=data, layout=layout)\n",
    "fig.show(renderer='browser')"
   ]
  },
  {
   "cell_type": "markdown",
   "id": "3c9deb59-56bc-41a2-809c-f25d521ec0f0",
   "metadata": {},
   "source": [
    "### **Bubble Plots**"
   ]
  },
  {
   "cell_type": "markdown",
   "id": "07c8a336-914e-4ec0-88f8-b92ec099ee01",
   "metadata": {},
   "source": [
    "**Exercise 10**"
   ]
  },
  {
   "cell_type": "code",
   "execution_count": 92,
   "id": "495a6471-1d87-4c93-a71a-e173db63720d",
   "metadata": {},
   "outputs": [],
   "source": [
    "df = pd.read_csv(\"C:/Users/CamilaHiura/Documents/Cursos/Interactive Python Dashboards with Plotly and Dash/Práticas/Data/mpg.csv\")\n",
    "\n",
    "data = [go.Scatter(x=df[\"displacement\"], y=df[\"acceleration\"], text = df[\"name\"], \n",
    "                   mode = \"markers\", marker = dict(size=df[\"weight\"]/400))]\n",
    "layout = go.Layout(title=\"Bubble Chart\", hovermode = \"closest\")\n",
    "\n",
    "fig = go.Figure(data=data, layout=layout)\n",
    "fig.show(renderer='browser')"
   ]
  },
  {
   "cell_type": "markdown",
   "id": "a2bb16a5-e42a-47c0-8c64-688157b8f104",
   "metadata": {},
   "source": [
    "### **Boxplot**"
   ]
  },
  {
   "cell_type": "markdown",
   "id": "8a63af7a-2750-4878-aa75-6ede855e64a4",
   "metadata": {},
   "source": [
    "**Exercise 11**"
   ]
  },
  {
   "cell_type": "code",
   "execution_count": 110,
   "id": "244d390b-912e-40d9-9b9d-9a9c30c4799c",
   "metadata": {},
   "outputs": [],
   "source": [
    "y = random.sample(range(1, 100), 30)\n",
    "\n",
    "data = [go.Box(y=y, boxpoints = \"all\", jitter = 0.3, pointpos = 0)]\n",
    "fig = go.Figure(data=data)\n",
    "fig.show(renderer=\"browser\")"
   ]
  },
  {
   "cell_type": "markdown",
   "id": "e5794c90-33bd-412a-9523-5fc97b06a4de",
   "metadata": {},
   "source": [
    "**Exercise 12**"
   ]
  },
  {
   "cell_type": "code",
   "execution_count": 95,
   "id": "78a1df12-9d6b-4123-b02a-992d231bab04",
   "metadata": {},
   "outputs": [],
   "source": [
    "df = pd.read_csv(\"C:/Users/CamilaHiura/Documents/Cursos/Interactive Python Dashboards with Plotly and Dash/Práticas/Data/abalone.csv\")\n",
    "\n",
    "sample1 = np.random.choice(df[\"rings\"], 30, replace=False)\n",
    "sample2 = np.random.choice(df[\"rings\"], 20, replace=False)\n",
    "\n",
    "data = [go.Box(y = sample1, name = \"1\"), go.Box(y = sample2, name = \"2\")]\n",
    "layout = go.Layout(title = \"2 random samples\")\n",
    "\n",
    "fig = go.Figure(data=data, layout=layout)\n",
    "fig.show(renderer=\"browser\")"
   ]
  },
  {
   "cell_type": "markdown",
   "id": "ab4e8bd8-af29-4684-aa39-5651da9e1ee9",
   "metadata": {},
   "source": [
    "### **Histograms**"
   ]
  },
  {
   "cell_type": "markdown",
   "id": "2b2cde4c-2d27-40a7-ae6d-f73ece4814f0",
   "metadata": {},
   "source": [
    "**Exercise 13**"
   ]
  },
  {
   "cell_type": "code",
   "execution_count": 116,
   "id": "73964176-48e3-47ed-ad8a-4c6e33f8f946",
   "metadata": {},
   "outputs": [],
   "source": [
    "df = pd.read_csv(\"C:/Users/CamilaHiura/Documents/Cursos/Interactive Python Dashboards with Plotly and Dash/Práticas/Data/mpg.csv\")\n",
    "\n",
    "data = [go.Histogram(x=df[\"mpg\"], xbins=dict(start=0, end=50, size=2))]\n",
    "layout = go.Layout(title = \"Histogram\")\n",
    "\n",
    "fig = go.Figure(data=data, layout=layout)\n",
    "fig.show(renderer=\"browser\")"
   ]
  },
  {
   "cell_type": "markdown",
   "id": "5cd87f40-d054-4d7b-a0c5-f257f118c567",
   "metadata": {},
   "source": [
    "**Exercise 14**"
   ]
  },
  {
   "cell_type": "code",
   "execution_count": 119,
   "id": "b6653d1d-6539-4285-861d-71dd0b5ab7b7",
   "metadata": {},
   "outputs": [],
   "source": [
    "df = pd.read_csv(\"C:/Users/CamilaHiura/Documents/Cursos/Interactive Python Dashboards with Plotly and Dash/Práticas/Data/abalone.csv\")\n",
    "\n",
    "data = [go.Histogram(x=df[\"length\"], xbins=dict(start=0, end=1, size=0.02))]\n",
    "layout = go.Layout(title=\"Histogram\")\n",
    "\n",
    "fig = go.Figure(data=data, layout=layout)\n",
    "fig.show(renderer=\"browser\")"
   ]
  },
  {
   "cell_type": "markdown",
   "id": "6f4bf305-0eba-4910-a027-5a14034a045a",
   "metadata": {},
   "source": [
    "### **Distplots**"
   ]
  },
  {
   "cell_type": "markdown",
   "id": "824a01a9-9e63-4220-a2d5-e5f3aee147c4",
   "metadata": {},
   "source": [
    "**Exercise 15**"
   ]
  },
  {
   "cell_type": "code",
   "execution_count": 128,
   "id": "3e7d3690-d32b-4f3f-9280-5f7a927acf86",
   "metadata": {},
   "outputs": [],
   "source": [
    "x1 = np.random.randn(1000)-2\n",
    "x2 = np.random.randn(1000)\n",
    "x3 = np.random.randn(1000)+2\n",
    "x4 = np.random.randn(1000)+4\n",
    "\n",
    "\n",
    "hist_data = [x1, x2, x3, x4]\n",
    "group_labels = [\"test1\", \"test2\", \"test3\", \"test4\"]\n",
    "\n",
    "fig = ff.create_distplot(hist_data, group_labels, bin_size = [.2, .1, .3, .4])\n",
    "fig.show(renderer=\"browser\")"
   ]
  },
  {
   "cell_type": "markdown",
   "id": "dff5985f-52d7-4a01-8d87-efbd6a15bfcc",
   "metadata": {},
   "source": [
    "**Exercise 16**"
   ]
  },
  {
   "cell_type": "code",
   "execution_count": 130,
   "id": "85b52f85-fe35-4fd8-bb59-a014230d9e7d",
   "metadata": {},
   "outputs": [],
   "source": [
    "df = pd.read_csv(\"C:/Users/CamilaHiura/Documents/Cursos/Interactive Python Dashboards with Plotly and Dash/Práticas/Data/iris.csv\")\n",
    "\n",
    "trace1 = df[df[\"class\"]==\"Iris-setosa\"][\"petal_length\"]\n",
    "trace2 = df[df[\"class\"]==\"Iris-versicolor\"][\"petal_length\"]\n",
    "trace3 = df[df[\"class\"]==\"Iris-virginica\"][\"petal_length\"]\n",
    "\n",
    "hist_data = [trace1, trace2, trace3]\n",
    "group_labels = [\"Iris-setosa\", \"Iris-versicolor\", \"Iris-virginica\"]\n",
    "\n",
    "fig = ff.create_distplot(hist_data, group_labels)\n",
    "fig.show(renderer=\"browser\")"
   ]
  },
  {
   "cell_type": "markdown",
   "id": "caf9814b-b2b8-4c9e-b503-be4e6e001abb",
   "metadata": {},
   "source": [
    "### **Heatmaps**"
   ]
  },
  {
   "cell_type": "markdown",
   "id": "adc3c2a0-1c8c-4ce4-98a3-f7de2104ea38",
   "metadata": {},
   "source": [
    "**Exercise 17**"
   ]
  },
  {
   "cell_type": "code",
   "execution_count": 151,
   "id": "e0420ea7-89ef-4d75-b782-9362583dd900",
   "metadata": {},
   "outputs": [],
   "source": [
    "df = pd.read_csv(\"C:/Users/CamilaHiura/Documents/Cursos/Interactive Python Dashboards with Plotly and Dash/Práticas/Data/2010SantaBarbaraCA.csv\")\n",
    "\n",
    "data = [go.Heatmap(x=df[\"DAY\"].values, y=df[\"LST_TIME\"], z=df[\"T_HR_AVG\"].values.tolist())]\n",
    "layout = go.Layout(title = \"SB CA Temps\")\n",
    "\n",
    "fig = go.Figure(data=data, layout=layout)\n",
    "fig.show(renderer=\"browser\")"
   ]
  },
  {
   "cell_type": "markdown",
   "id": "3a841cf1-6d76-4366-a896-12f4ce3dc104",
   "metadata": {},
   "source": [
    "**Exercise 18**"
   ]
  },
  {
   "cell_type": "code",
   "execution_count": 154,
   "id": "f421987c-6cc5-4e66-a66a-8ec552b2cab1",
   "metadata": {},
   "outputs": [],
   "source": [
    "df = pd.read_csv(\"C:/Users/CamilaHiura/Documents/Cursos/Interactive Python Dashboards with Plotly and Dash/Práticas/Data/flights.csv\")\n",
    "\n",
    "data = [go.Heatmap(x=df[\"year\"].values, y=df[\"month\"], z=df[\"passengers\"].values.tolist())]\n",
    "layout = go.Layout(title = \"Flights\")\n",
    "\n",
    "fig = go.Figure(data=data, layout=layout)\n",
    "fig.show(renderer=\"browser\")"
   ]
  }
 ],
 "metadata": {
  "kernelspec": {
   "display_name": "Python 3 (ipykernel)",
   "language": "python",
   "name": "python3"
  },
  "language_info": {
   "codemirror_mode": {
    "name": "ipython",
    "version": 3
   },
   "file_extension": ".py",
   "mimetype": "text/x-python",
   "name": "python",
   "nbconvert_exporter": "python",
   "pygments_lexer": "ipython3",
   "version": "3.11.7"
  }
 },
 "nbformat": 4,
 "nbformat_minor": 5
}
